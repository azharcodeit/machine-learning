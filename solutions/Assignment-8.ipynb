{
 "cells": [
  {
   "cell_type": "markdown",
   "metadata": {},
   "source": [
    "### Before importing you need to install pygmaps library"
   ]
  },
  {
   "cell_type": "code",
   "execution_count": 1,
   "metadata": {},
   "outputs": [
    {
     "ename": "KeyboardInterrupt",
     "evalue": "",
     "output_type": "error",
     "traceback": [
      "\u001b[1;31m---------------------------------------------------------------------------\u001b[0m",
      "\u001b[1;31mKeyboardInterrupt\u001b[0m                         Traceback (most recent call last)",
      "\u001b[1;32m<ipython-input-1-1a547ab19063>\u001b[0m in \u001b[0;36m<module>\u001b[1;34m()\u001b[0m\n\u001b[0;32m      2\u001b[0m \u001b[1;32mimport\u001b[0m \u001b[0mnumpy\u001b[0m \u001b[1;32mas\u001b[0m \u001b[0mnp\u001b[0m\u001b[1;33m\u001b[0m\u001b[0m\n\u001b[0;32m      3\u001b[0m \u001b[1;32mimport\u001b[0m \u001b[0mpygmaps\u001b[0m\u001b[1;33m\u001b[0m\u001b[0m\n\u001b[1;32m----> 4\u001b[1;33m \u001b[1;32mfrom\u001b[0m \u001b[0mgeopy\u001b[0m\u001b[1;33m.\u001b[0m\u001b[0mgeocoders\u001b[0m \u001b[1;32mimport\u001b[0m \u001b[0mNominatim\u001b[0m\u001b[1;33m\u001b[0m\u001b[0m\n\u001b[0m\u001b[0;32m      5\u001b[0m \u001b[1;32mfrom\u001b[0m \u001b[0mcopy\u001b[0m \u001b[1;32mimport\u001b[0m \u001b[0mdeepcopy\u001b[0m\u001b[1;33m\u001b[0m\u001b[0m\n\u001b[0;32m      6\u001b[0m \u001b[1;32mfrom\u001b[0m \u001b[0mpandas\u001b[0m \u001b[1;32mimport\u001b[0m \u001b[0mDataFrame\u001b[0m\u001b[1;33m\u001b[0m\u001b[0m\n",
      "\u001b[1;32mC:\\ProgramData\\Anaconda3\\lib\\site-packages\\geopy\\__init__.py\u001b[0m in \u001b[0;36m<module>\u001b[1;34m()\u001b[0m\n\u001b[0;32m     14\u001b[0m \u001b[1;32mfrom\u001b[0m \u001b[0mgeopy\u001b[0m\u001b[1;33m.\u001b[0m\u001b[0mutil\u001b[0m \u001b[1;32mimport\u001b[0m \u001b[0m__version__\u001b[0m  \u001b[1;31m# noqa\u001b[0m\u001b[1;33m\u001b[0m\u001b[0m\n\u001b[0;32m     15\u001b[0m \u001b[1;33m\u001b[0m\u001b[0m\n\u001b[1;32m---> 16\u001b[1;33m \u001b[1;32mfrom\u001b[0m \u001b[0mgeopy\u001b[0m\u001b[1;33m.\u001b[0m\u001b[0mgeocoders\u001b[0m \u001b[1;32mimport\u001b[0m \u001b[1;33m*\u001b[0m  \u001b[1;31m# noqa\u001b[0m\u001b[1;33m\u001b[0m\u001b[0m\n\u001b[0m\u001b[0;32m     17\u001b[0m \u001b[1;31m# geopy.geocoders.options must not be importable as `geopy.options`,\u001b[0m\u001b[1;33m\u001b[0m\u001b[1;33m\u001b[0m\u001b[0m\n\u001b[0;32m     18\u001b[0m \u001b[1;31m# because that is ambiguous (which options are that).\u001b[0m\u001b[1;33m\u001b[0m\u001b[1;33m\u001b[0m\u001b[0m\n",
      "\u001b[1;32mC:\\ProgramData\\Anaconda3\\lib\\site-packages\\geopy\\geocoders\\__init__.py\u001b[0m in \u001b[0;36m<module>\u001b[1;34m()\u001b[0m\n\u001b[0;32m    123\u001b[0m \u001b[1;32mfrom\u001b[0m \u001b[0mgeopy\u001b[0m\u001b[1;33m.\u001b[0m\u001b[0mgeocoders\u001b[0m\u001b[1;33m.\u001b[0m\u001b[0mgeocodefarm\u001b[0m \u001b[1;32mimport\u001b[0m \u001b[0mGeocodeFarm\u001b[0m\u001b[1;33m\u001b[0m\u001b[0m\n\u001b[0;32m    124\u001b[0m \u001b[1;32mfrom\u001b[0m \u001b[0mgeopy\u001b[0m\u001b[1;33m.\u001b[0m\u001b[0mgeocoders\u001b[0m\u001b[1;33m.\u001b[0m\u001b[0mgeonames\u001b[0m \u001b[1;32mimport\u001b[0m \u001b[0mGeoNames\u001b[0m\u001b[1;33m\u001b[0m\u001b[0m\n\u001b[1;32m--> 125\u001b[1;33m \u001b[1;32mfrom\u001b[0m \u001b[0mgeopy\u001b[0m\u001b[1;33m.\u001b[0m\u001b[0mgeocoders\u001b[0m\u001b[1;33m.\u001b[0m\u001b[0mgooglev3\u001b[0m \u001b[1;32mimport\u001b[0m \u001b[0mGoogleV3\u001b[0m\u001b[1;33m\u001b[0m\u001b[0m\n\u001b[0m\u001b[0;32m    126\u001b[0m \u001b[1;32mfrom\u001b[0m \u001b[0mgeopy\u001b[0m\u001b[1;33m.\u001b[0m\u001b[0mgeocoders\u001b[0m\u001b[1;33m.\u001b[0m\u001b[0mhere\u001b[0m \u001b[1;32mimport\u001b[0m \u001b[0mHere\u001b[0m\u001b[1;33m\u001b[0m\u001b[0m\n\u001b[0;32m    127\u001b[0m \u001b[1;32mfrom\u001b[0m \u001b[0mgeopy\u001b[0m\u001b[1;33m.\u001b[0m\u001b[0mgeocoders\u001b[0m\u001b[1;33m.\u001b[0m\u001b[0mignfrance\u001b[0m \u001b[1;32mimport\u001b[0m \u001b[0mIGNFrance\u001b[0m\u001b[1;33m\u001b[0m\u001b[0m\n",
      "\u001b[1;32mC:\\ProgramData\\Anaconda3\\lib\\importlib\\_bootstrap.py\u001b[0m in \u001b[0;36m_find_and_load\u001b[1;34m(name, import_)\u001b[0m\n",
      "\u001b[1;32mC:\\ProgramData\\Anaconda3\\lib\\importlib\\_bootstrap.py\u001b[0m in \u001b[0;36m_find_and_load_unlocked\u001b[1;34m(name, import_)\u001b[0m\n",
      "\u001b[1;32mC:\\ProgramData\\Anaconda3\\lib\\importlib\\_bootstrap.py\u001b[0m in \u001b[0;36m_load_unlocked\u001b[1;34m(spec)\u001b[0m\n",
      "\u001b[1;32mC:\\ProgramData\\Anaconda3\\lib\\importlib\\_bootstrap_external.py\u001b[0m in \u001b[0;36mexec_module\u001b[1;34m(self, module)\u001b[0m\n",
      "\u001b[1;32mC:\\ProgramData\\Anaconda3\\lib\\importlib\\_bootstrap_external.py\u001b[0m in \u001b[0;36mget_code\u001b[1;34m(self, fullname)\u001b[0m\n",
      "\u001b[1;32mC:\\ProgramData\\Anaconda3\\lib\\importlib\\_bootstrap_external.py\u001b[0m in \u001b[0;36mget_data\u001b[1;34m(self, path)\u001b[0m\n",
      "\u001b[1;31mKeyboardInterrupt\u001b[0m: "
     ]
    }
   ],
   "source": [
    "from time import sleep\n",
    "import numpy as np\n",
    "import pygmaps\n",
    "from geopy.geocoders import Nominatim\n",
    "from copy import deepcopy\n",
    "from pandas import DataFrame\n",
    "from matplotlib import pyplot as plt"
   ]
  },
  {
   "cell_type": "markdown",
   "metadata": {},
   "source": [
    "### Here is the function that returns the lattitude and longitude"
   ]
  },
  {
   "cell_type": "code",
   "execution_count": 16,
   "metadata": {},
   "outputs": [],
   "source": [
    "def geoGrab(address):\n",
    "    geolocator = Nominatim(user_agent=\"my-application\")\n",
    "    location = geolocator.geocode(address)\n",
    "    if location is not None:\n",
    "        loc = {}\n",
    "        loc['latitude'] = location.latitude\n",
    "        loc['longitude'] = location.longitude\n",
    "        return loc\n",
    "    else:\n",
    "        return None\n"
   ]
  },
  {
   "cell_type": "code",
   "execution_count": 17,
   "metadata": {},
   "outputs": [
    {
     "data": {
      "text/plain": [
       "{'latitude': 43.2570222, 'longitude': 76.9516973}"
      ]
     },
     "execution_count": 17,
     "metadata": {},
     "output_type": "execute_result"
    }
   ],
   "source": [
    "geoGrab('Kazybek Bi St, Almaty')"
   ]
  },
  {
   "cell_type": "markdown",
   "metadata": {},
   "source": [
    "### Fill out this function placeFind()"
   ]
  },
  {
   "cell_type": "code",
   "execution_count": 18,
   "metadata": {},
   "outputs": [],
   "source": [
    "def placeFind(fileName):\n",
    "    fw = open('places.txt', 'w')\n",
    "    for line in open(fileName).readlines():\n",
    "        address = line.split('\\t')[-1].replace(\"\\n\", \"\")\n",
    "        # read rows and take their exact address \n",
    "        # use geoGrab which returns a location stored in a dictionary format\n",
    "        loc = geoGrab(address)\n",
    "        if loc==None:\n",
    "            print(\"!!! Something went wrong! Cannot find {}\".format(address))\n",
    "        else:\n",
    "            fw.write(\"{}\\t{}\\n\".format(address, loc))\n",
    "#         if 'everything is ok':\n",
    "#             # write the longitude and latitude to places.txt\n",
    "#         else:\n",
    "#             # inform about error\n",
    "        sleep(2) # the time pause needed as it takes some time to connect through Google API and find location\n",
    "    fw.close()\n",
    "\n"
   ]
  },
  {
   "cell_type": "code",
   "execution_count": 4,
   "metadata": {},
   "outputs": [
    {
     "name": "stdout",
     "output_type": "stream",
     "text": [
      "!!! Something went wrong! Cannot find Rozybakiev St 277\n",
      "!!! Something went wrong! Cannot find Almaty, ul. Shevchenko, 204\n",
      "!!! Something went wrong! Cannot find Almaty, ul. Kabanbay Batyra, 83\n"
     ]
    }
   ],
   "source": [
    "placeFind(\"almatyPlaces.txt\")"
   ]
  },
  {
   "cell_type": "markdown",
   "metadata": {},
   "source": [
    "### Write your own function k-means:"
   ]
  },
  {
   "cell_type": "code",
   "execution_count": 5,
   "metadata": {},
   "outputs": [],
   "source": [
    "def clusterPlaces(k, data):\n",
    "    n = data.shape[0]\n",
    "    c = data.shape[1]\n",
    "\n",
    "    mean = np.mean(data, axis = 0)\n",
    "    std = np.std(data, axis = 0)\n",
    "    centers = np.random.randn(k,c)*std + mean\n",
    "\n",
    "    plt.subplot(2, 2, 1)\n",
    "    plt.scatter(data[:,0], data[:,1], s=7)\n",
    "    plt.scatter(centers[:,0], centers[:,1], marker='*', c='g', s=150)\n",
    "\n",
    "    centers_old = np.zeros(centers.shape)\n",
    "    centers_new = deepcopy(centers)\n",
    "\n",
    "    data.shape\n",
    "    clusters = np.zeros(n)\n",
    "    distances = np.zeros((n,k))\n",
    "\n",
    "    error = np.linalg.norm(centers_new - centers_old)\n",
    "\n",
    "    while error != 0:\n",
    "        for i in range(k):\n",
    "            distances[:,i] = np.linalg.norm(data - centers[i], axis=1)\n",
    "        clusters = np.argmin(distances, axis = 1)\n",
    "\n",
    "        centers_old = deepcopy(centers_new)\n",
    "        for i in range(k):\n",
    "            centers_new[i] = np.mean(data[clusters == i], axis=0)\n",
    "        error = np.linalg.norm(centers_new - centers_old)\n",
    "\n",
    "    plt.subplot(2, 2, 3)\n",
    "    plt.scatter(data[:,0], data[:,1], s=7)\n",
    "    plt.scatter(centers_new[:,0], centers_new[:,1], marker='*', c='g', s=150)\n",
    "    \n",
    "    return centers_new\n"
   ]
  },
  {
   "cell_type": "code",
   "execution_count": 12,
   "metadata": {},
   "outputs": [],
   "source": [
    "def getData(fileName):\n",
    "    l = []\n",
    "    for line in open(fileName).readlines():\n",
    "        loc = line.split('\\t')[-1].replace(\"\\n\", \"\")\n",
    "        l.append(eval(loc))\n",
    "    return DataFrame(l).values, DataFrame(l)"
   ]
  },
  {
   "cell_type": "code",
   "execution_count": 13,
   "metadata": {},
   "outputs": [
    {
     "data": {
      "image/png": "[encoded data removed]",
      "text/plain": [
       "<Figure size 432x288 with 2 Axes>"
      ]
     },
     "metadata": {
      "needs_background": "light"
     },
     "output_type": "display_data"
    }
   ],
   "source": [
    "# Something wrong with Almaty Dostyk 123/8\t{'latitude': 45.256062, 'longitude': 82.492783}\n",
    "places, df  = getData('places.txt')\n",
    "b = clusterPlaces(2, places)"
   ]
  },
  {
   "cell_type": "code",
   "execution_count": 14,
   "metadata": {},
   "outputs": [],
   "source": [
    "def map_it(*args):\n",
    "    maps = pygmaps.gmaps.maps(df.latitude.mean(), df.longitude.mean())\n",
    "    for arg in args:\n",
    "        for i in arg:\n",
    "            maps.add_point(i[0], i[1])\n",
    "    maps.draw(\"my_map.html\")\n",
    "map_it(places, b)"
   ]
  },
  {
   "cell_type": "code",
   "execution_count": 10,
   "metadata": {},
   "outputs": [],
   "source": [
    "from pygmaps import gmaps"
   ]
  },
  {
   "cell_type": "markdown",
   "metadata": {},
   "source": [
    "At the end you need to obtain html file with points on the maps"
   ]
  }
 ],
 "metadata": {
  "kernelspec": {
   "display_name": "Python 3",
   "language": "python",
   "name": "python3"
  },
  "language_info": {
   "codemirror_mode": {
    "name": "ipython",
    "version": 3
   },
   "file_extension": ".py",
   "mimetype": "text/x-python",
   "name": "python",
   "nbconvert_exporter": "python",
   "pygments_lexer": "ipython3",
   "version": "3.6.5"
  }
 },
 "nbformat": 4,
 "nbformat_minor": 2
}
