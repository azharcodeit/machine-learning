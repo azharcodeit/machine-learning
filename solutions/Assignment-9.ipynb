{
 "cells": [
  {
   "cell_type": "code",
   "execution_count": 65,
   "metadata": {},
   "outputs": [],
   "source": [
    "import numpy as np\n",
    "import matplotlib.pyplot as plt\n",
    "import scipy.io\n",
    "import pandas as pd\n",
    "\n",
    "from sklearn.preprocessing import StandardScaler\n",
    "import numpy as np\n",
    "%matplotlib inline"
   ]
  },
  {
   "cell_type": "markdown",
   "metadata": {},
   "source": [
    "#### Load data"
   ]
  },
  {
   "cell_type": "code",
   "execution_count": 3,
   "metadata": {},
   "outputs": [],
   "source": [
    "data = scipy.io.loadmat('ex7data1.mat')"
   ]
  },
  {
   "cell_type": "code",
   "execution_count": 4,
   "metadata": {
    "collapsed": true
   },
   "outputs": [
    {
     "data": {
      "text/plain": [
       "{'__header__': b'MATLAB 5.0 MAT-file, Platform: PCWIN64, Created on: Mon Nov 14 22:41:44 2011',\n",
       " '__version__': '1.0',\n",
       " '__globals__': [],\n",
       " 'X': array([[ 3.38156267,  3.38911268],\n",
       "        [ 4.52787538,  5.8541781 ],\n",
       "        [ 2.65568187,  4.41199472],\n",
       "        [ 2.76523467,  3.71541365],\n",
       "        [ 2.84656011,  4.17550645],\n",
       "        [ 3.89067196,  6.48838087],\n",
       "        [ 3.47580524,  3.63284876],\n",
       "        [ 5.91129845,  6.68076853],\n",
       "        [ 3.92889397,  5.09844661],\n",
       "        [ 4.56183537,  5.62329929],\n",
       "        [ 4.57407171,  5.39765069],\n",
       "        [ 4.37173356,  5.46116549],\n",
       "        [ 4.19169388,  4.95469359],\n",
       "        [ 5.24408518,  4.66148767],\n",
       "        [ 2.8358402 ,  3.76801716],\n",
       "        [ 5.63526969,  6.31211438],\n",
       "        [ 4.68632968,  5.6652411 ],\n",
       "        [ 2.85051337,  4.62645627],\n",
       "        [ 5.1101573 ,  7.36319662],\n",
       "        [ 5.18256377,  4.64650909],\n",
       "        [ 5.70732809,  6.68103995],\n",
       "        [ 3.57968458,  4.80278074],\n",
       "        [ 5.63937773,  6.12043594],\n",
       "        [ 4.26346851,  4.68942896],\n",
       "        [ 2.53651693,  3.88449078],\n",
       "        [ 3.22382902,  4.94255585],\n",
       "        [ 4.92948801,  5.95501971],\n",
       "        [ 5.79295774,  5.10839305],\n",
       "        [ 2.81684824,  4.81895769],\n",
       "        [ 3.88882414,  5.10036564],\n",
       "        [ 3.34323419,  5.89301345],\n",
       "        [ 5.87973414,  5.52141664],\n",
       "        [ 3.10391912,  3.85710242],\n",
       "        [ 5.33150572,  4.68074235],\n",
       "        [ 3.37542687,  4.56537852],\n",
       "        [ 4.77667888,  6.25435039],\n",
       "        [ 2.6757463 ,  3.73096988],\n",
       "        [ 5.50027665,  5.67948113],\n",
       "        [ 1.79709714,  3.24753885],\n",
       "        [ 4.3225147 ,  5.11110472],\n",
       "        [ 4.42100445,  6.02563978],\n",
       "        [ 3.17929886,  4.43686032],\n",
       "        [ 3.03354125,  3.97879278],\n",
       "        [ 4.6093482 ,  5.879792  ],\n",
       "        [ 2.96378859,  3.30024835],\n",
       "        [ 3.97176248,  5.40773735],\n",
       "        [ 1.18023321,  2.87869409],\n",
       "        [ 1.91895045,  5.07107848],\n",
       "        [ 3.95524687,  4.5053271 ],\n",
       "        [ 5.11795499,  6.08507386]])}"
      ]
     },
     "execution_count": 4,
     "metadata": {},
     "output_type": "execute_result"
    }
   ],
   "source": [
    "data"
   ]
  },
  {
   "cell_type": "code",
   "execution_count": 5,
   "metadata": {
    "scrolled": true
   },
   "outputs": [
    {
     "data": {
      "text/html": [
       "<div>\n",
       "<style scoped>\n",
       "    .dataframe tbody tr th:only-of-type {\n",
       "        vertical-align: middle;\n",
       "    }\n",
       "\n",
       "    .dataframe tbody tr th {\n",
       "        vertical-align: top;\n",
       "    }\n",
       "\n",
       "    .dataframe thead th {\n",
       "        text-align: right;\n",
       "    }\n",
       "</style>\n",
       "<table border=\"1\" class=\"dataframe\">\n",
       "  <thead>\n",
       "    <tr style=\"text-align: right;\">\n",
       "      <th></th>\n",
       "      <th>0</th>\n",
       "      <th>1</th>\n",
       "    </tr>\n",
       "  </thead>\n",
       "  <tbody>\n",
       "    <tr>\n",
       "      <th>0</th>\n",
       "      <td>3.381563</td>\n",
       "      <td>3.389113</td>\n",
       "    </tr>\n",
       "    <tr>\n",
       "      <th>1</th>\n",
       "      <td>4.527875</td>\n",
       "      <td>5.854178</td>\n",
       "    </tr>\n",
       "    <tr>\n",
       "      <th>2</th>\n",
       "      <td>2.655682</td>\n",
       "      <td>4.411995</td>\n",
       "    </tr>\n",
       "    <tr>\n",
       "      <th>3</th>\n",
       "      <td>2.765235</td>\n",
       "      <td>3.715414</td>\n",
       "    </tr>\n",
       "    <tr>\n",
       "      <th>4</th>\n",
       "      <td>2.846560</td>\n",
       "      <td>4.175506</td>\n",
       "    </tr>\n",
       "  </tbody>\n",
       "</table>\n",
       "</div>"
      ],
      "text/plain": [
       "          0         1\n",
       "0  3.381563  3.389113\n",
       "1  4.527875  5.854178\n",
       "2  2.655682  4.411995\n",
       "3  2.765235  3.715414\n",
       "4  2.846560  4.175506"
      ]
     },
     "execution_count": 5,
     "metadata": {},
     "output_type": "execute_result"
    }
   ],
   "source": [
    "df = pd.DataFrame(np.c_[data['X']])\n",
    "df.head()"
   ]
  },
  {
   "cell_type": "markdown",
   "metadata": {},
   "source": [
    "#### Plot data"
   ]
  },
  {
   "cell_type": "code",
   "execution_count": 6,
   "metadata": {},
   "outputs": [
    {
     "data": {
      "image/png": "[encoded data removed]",
      "text/plain": [
       "<Figure size 432x288 with 1 Axes>"
      ]
     },
     "metadata": {
      "needs_background": "light"
     },
     "output_type": "display_data"
    }
   ],
   "source": [
    "def plotData(x, y):\n",
    "    plt.scatter(x, y)\n",
    "    plt.grid()\n",
    "plotData(df[0], df[1])"
   ]
  },
  {
   "cell_type": "markdown",
   "metadata": {},
   "source": [
    "### Write your own PCA algorithm"
   ]
  },
  {
   "cell_type": "markdown",
   "metadata": {},
   "source": [
    "You need to find two principal components.\n",
    "Your tasks are to draw to PCs and find orthogonal projections from some point to a given PCs."
   ]
  },
  {
   "cell_type": "markdown",
   "metadata": {},
   "source": [
    "If you are importing the PCA from sklearn, you get only 50%"
   ]
  },
  {
   "cell_type": "code",
   "execution_count": 7,
   "metadata": {},
   "outputs": [
    {
     "data": {
      "image/png": "[encoded data removed]",
      "text/plain": [
       "<Figure size 432x288 with 1 Axes>"
      ]
     },
     "metadata": {
      "needs_background": "light"
     },
     "output_type": "display_data"
    }
   ],
   "source": [
    "scaler = StandardScaler()\n",
    "scaler.fit(df)\n",
    "scaled = scaler.transform(df)\n",
    "plotData(scaled[:,0], scaled[:,1])"
   ]
  },
  {
   "cell_type": "code",
   "execution_count": 10,
   "metadata": {},
   "outputs": [
    {
     "data": {
      "image/png": "[encoded data removed]",
      "text/plain": [
       "<Figure size 432x288 with 1 Axes>"
      ]
     },
     "metadata": {
      "needs_background": "light"
     },
     "output_type": "display_data"
    }
   ],
   "source": [
    "eigenvectors, eigenvalues, V = np.linalg.svd(scaled.T, full_matrices=False)\n",
    "projected_data = np.dot(scaled, eigenvectors)\n",
    "sigma = projected_data.std(axis=0).mean()\n",
    "mean = scaled.mean(axis=0)\n",
    "\n",
    "for axis in eigenvectors:\n",
    "    start, end = mean, mean + sigma * axis\n",
    "    plt.annotate('', xy=end, xycoords='data',\n",
    "        xytext=start, textcoords='data',\n",
    "        arrowprops=dict(facecolor='red', width=1.0))\n",
    "\n",
    "plt.scatter(scaled[:,0], scaled[:,1])\n",
    "plt.show()"
   ]
  },
  {
   "cell_type": "code",
   "execution_count": 99,
   "metadata": {},
   "outputs": [
    {
     "data": {
      "image/png": "[encoded data removed]",
      "text/plain": [
       "<Figure size 432x288 with 1 Axes>"
      ]
     },
     "metadata": {
      "needs_background": "light"
     },
     "output_type": "display_data"
    }
   ],
   "source": [
    "eigenvectors, eigenvalues, V = np.linalg.svd(scaled.T, full_matrices=False)\n",
    "\n",
    "axis1 = eigenvectors[1]\n",
    "scaled1 = scaled.copy()\n",
    "scaled1 = np.dot(scaled1, eigenvectors)\n",
    "\n",
    "eigenvectors, eigenvalues, V = np.linalg.svd(scaled1.T, full_matrices=False)\n",
    "projected_data = np.dot(scaled1, eigenvectors)\n",
    "sigma = projected_data.std(axis=0).mean()\n",
    "mean = scaled1.mean(axis=0)\n",
    "\n",
    "for axis in eigenvectors:\n",
    "    start, end = mean, mean + sigma * axis\n",
    "    plt.annotate('', xy=end, xycoords='data',\n",
    "        xytext=start, textcoords='data',\n",
    "        arrowprops=dict(facecolor='red', width=1.0))\n",
    "\n",
    "\n",
    "plt.scatter(scaled1[:,0], scaled1[:,1])\n",
    "plt.show()"
   ]
  },
  {
   "cell_type": "code",
   "execution_count": 118,
   "metadata": {},
   "outputs": [
    {
     "data": {
      "image/png": "[encoded data removed]",
      "text/plain": [
       "<Figure size 432x288 with 1 Axes>"
      ]
     },
     "metadata": {
      "needs_background": "light"
     },
     "output_type": "display_data"
    }
   ],
   "source": [
    "plt.plot(projected_data[:,0], np.zeros_like(projected_data[:,0]), 'o')\n",
    "plt.show()"
   ]
  },
  {
   "cell_type": "code",
   "execution_count": 119,
   "metadata": {},
   "outputs": [
    {
     "data": {
      "image/png": "[encoded data removed]",
      "text/plain": [
       "<Figure size 432x288 with 1 Axes>"
      ]
     },
     "metadata": {
      "needs_background": "light"
     },
     "output_type": "display_data"
    }
   ],
   "source": [
    "plt.plot(projected_data[:,1], np.zeros_like(projected_data[:,1]), 'o')\n",
    "plt.show()"
   ]
  }
 ],
 "metadata": {
  "kernelspec": {
   "display_name": "Python 3",
   "language": "python",
   "name": "python3"
  },
  "language_info": {
   "codemirror_mode": {
    "name": "ipython",
    "version": 3
   },
   "file_extension": ".py",
   "mimetype": "text/x-python",
   "name": "python",
   "nbconvert_exporter": "python",
   "pygments_lexer": "ipython3",
   "version": "3.6.5"
  }
 },
 "nbformat": 4,
 "nbformat_minor": 1
}
