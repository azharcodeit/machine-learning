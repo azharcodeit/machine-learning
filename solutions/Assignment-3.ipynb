{
 "cells": [
  {
   "cell_type": "code",
   "execution_count": 130,
   "metadata": {},
   "outputs": [],
   "source": [
    "import random\n",
    "import numpy as np\n",
    "import matplotlib.pyplot as plt\n",
    "import matplotlib.cm as cm\n",
    "from scipy.io import loadmat"
   ]
  },
  {
   "cell_type": "markdown",
   "metadata": {},
   "source": [
    "#### Data"
   ]
  },
  {
   "cell_type": "code",
   "execution_count": 131,
   "metadata": {},
   "outputs": [],
   "source": [
    "data = loadmat('digits.mat')\n",
    "X = data['X']\n",
    "y = data['y']\n",
    "m,n = X.shape\n",
    "for i in range(m):\n",
    "    if y[i]==10:\n",
    "        y[i]=0"
   ]
  },
  {
   "cell_type": "markdown",
   "metadata": {},
   "source": [
    "#### Data visualization"
   ]
  },
  {
   "cell_type": "code",
   "execution_count": 132,
   "metadata": {},
   "outputs": [],
   "source": [
    "def displayData():\n",
    "    r = random.randint(0,5000)\n",
    "    plt.imshow(np.reshape(X[r], (20,20)).T, cmap=cm.gray)\n",
    "    plt.title(y[r])"
   ]
  },
  {
   "cell_type": "code",
   "execution_count": 133,
   "metadata": {},
   "outputs": [
    {
     "name": "stderr",
     "output_type": "stream",
     "text": [
      "/home/naz/.local/lib/python3.6/site-packages/matplotlib/text.py:1190: FutureWarning: elementwise comparison failed; returning scalar instead, but in the future will perform elementwise comparison\n",
      "  if s != self._text:\n"
     ]
    },
    {
     "data": {
      "image/png": "[encoded data removed]",
      "text/plain": [
       "<Figure size 432x288 with 1 Axes>"
      ]
     },
     "metadata": {
      "needs_background": "light"
     },
     "output_type": "display_data"
    }
   ],
   "source": [
    "displayData()"
   ]
  },
  {
   "cell_type": "markdown",
   "metadata": {},
   "source": [
    "#### Hypothesis and cost fucntions"
   ]
  },
  {
   "cell_type": "code",
   "execution_count": 144,
   "metadata": {},
   "outputs": [
    {
     "data": {
      "text/plain": [
       "(5000, 1)"
      ]
     },
     "execution_count": 144,
     "metadata": {},
     "output_type": "execute_result"
    }
   ],
   "source": [
    "h = np.zeros((m,1))\n",
    "theta = np.zeros(n)\n",
    "def hypothesis(theta):\n",
    "    h = 1.0/(1.0+np.exp(-np.dot(X,theta.T)))\n",
    "    for i in range(m):\n",
    "        if h[i]>0.5 or h[i]==0.5:\n",
    "            h[i]=1\n",
    "        else:\n",
    "            h[i]=0\n",
    "    return h\n",
    "h.shape"
   ]
  },
  {
   "cell_type": "code",
   "execution_count": 145,
   "metadata": {},
   "outputs": [
    {
     "data": {
      "text/plain": [
       "967968.8124352583"
      ]
     },
     "execution_count": 145,
     "metadata": {},
     "output_type": "execute_result"
    }
   ],
   "source": [
    "def cost():\n",
    "    h = sigmoid(hypothesis(theta))\n",
    "    J = np.sum(np.dot(-y.T, np.log(h)) - np.dot((1-y).T, np.log(1-h)))\n",
    "    return J\n",
    "cost()"
   ]
  },
  {
   "cell_type": "markdown",
   "metadata": {
    "collapsed": true
   },
   "source": [
    "#### Gradient descent algorithm"
   ]
  },
  {
   "cell_type": "code",
   "execution_count": 151,
   "metadata": {},
   "outputs": [],
   "source": [
    "alpha = 0.001\n",
    "def gradient(alpha, theta, y):\n",
    "    for i in range(2000):\n",
    "        h = hypothesis(theta).reshape(m,1)\n",
    "        theta =theta - (alpha/m)*np.dot((h-y).T, X)\n",
    "    return theta\n",
    "#theta = gradient(alpha, theta,y)"
   ]
  },
  {
   "cell_type": "markdown",
   "metadata": {},
   "source": [
    "#### One vs all classification"
   ]
  },
  {
   "cell_type": "code",
   "execution_count": 152,
   "metadata": {},
   "outputs": [
    {
     "data": {
      "text/plain": [
       "(array([[0.],\n",
       "        [0.],\n",
       "        [0.],\n",
       "        ...,\n",
       "        [9.],\n",
       "        [9.],\n",
       "        [9.]]), array([[0],\n",
       "        [0],\n",
       "        [0],\n",
       "        ...,\n",
       "        [9],\n",
       "        [9],\n",
       "        [9]], dtype=uint8))"
      ]
     },
     "execution_count": 152,
     "metadata": {},
     "output_type": "execute_result"
    }
   ],
   "source": [
    "pred = np.zeros((m,10))\n",
    "ys = np.zeros((m,1))\n",
    "yy = np.zeros((m,1))\n",
    "from sklearn.metrics import accuracy_score\n",
    "for i in range(10):\n",
    "    for j in range(m):\n",
    "        if y[j]==i:\n",
    "            yy[j]=1\n",
    "        else:\n",
    "            yy[j]=0\n",
    "    theta = gradient(alpha, theta, yy)\n",
    "    pred[:,i] = hypothesis(theta).ravel()\n",
    "for i in range(m):\n",
    "    for j in range(10):\n",
    "        if pred[i,j]==1:\n",
    "            ys[i]=j\n",
    "ys,y   "
   ]
  },
  {
   "cell_type": "markdown",
   "metadata": {},
   "source": [
    "#### Calculate accuracy"
   ]
  },
  {
   "cell_type": "code",
   "execution_count": null,
   "metadata": {},
   "outputs": [],
   "source": []
  },
  {
   "cell_type": "code",
   "execution_count": 153,
   "metadata": {},
   "outputs": [
    {
     "name": "stdout",
     "output_type": "stream",
     "text": [
      "Accuracy is about  0.8366 %\n"
     ]
    }
   ],
   "source": [
    "print('Accuracy is about ',accuracy_score(ys, y),'%')"
   ]
  },
  {
   "cell_type": "code",
   "execution_count": null,
   "metadata": {},
   "outputs": [],
   "source": []
  },
  {
   "cell_type": "code",
   "execution_count": null,
   "metadata": {},
   "outputs": [],
   "source": []
  }
 ],
 "metadata": {
  "kernelspec": {
   "display_name": "Python 3",
   "language": "python",
   "name": "python3"
  },
  "language_info": {
   "codemirror_mode": {
    "name": "ipython",
    "version": 3
   },
   "file_extension": ".py",
   "mimetype": "text/x-python",
   "name": "python",
   "nbconvert_exporter": "python",
   "pygments_lexer": "ipython3",
   "version": "3.6.5"
  }
 },
 "nbformat": 4,
 "nbformat_minor": 1
}
